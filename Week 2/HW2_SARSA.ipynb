{
 "cells": [
  {
   "cell_type": "code",
   "execution_count": 1,
   "id": "966d2f6a-0c57-4404-bf4a-2594ba613056",
   "metadata": {},
   "outputs": [],
   "source": [
    "import numpy as np\n",
    "import numpy.random as rand"
   ]
  },
  {
   "cell_type": "code",
   "execution_count": 99,
   "id": "922e4bff-1292-43c3-95a5-d189f70a922c",
   "metadata": {},
   "outputs": [],
   "source": [
    "import matplotlib.pyplot as plt\n",
    "import matplotlib.patheffects as PathEffects\n",
    "from matplotlib import colors\n",
    "#TODO:\n",
    "# Avoid block in start position\n",
    "class Gridworld:\n",
    "    def __init__(self,shape:tuple, num_pun:int, blocks=10, terminal_reward=10, num_blocks=3):\n",
    "        \"\"\"\n",
    "        \n",
    "        Args:        \n",
    "            num_pun (int): number of negative rewards that are randomly placed on the board\n",
    "        \n",
    "        \"\"\"\n",
    "        self.shape = shape\n",
    "        self.grid = np.zeros(shape)  \n",
    "        \n",
    "        #agent position\n",
    "        self.agent_position = [0,0]\n",
    "        self.grid[0,0] = 2\n",
    "        self.fig = plt.figure()\n",
    "        #set negative rewards        \n",
    "        for i in range(num_pun):\n",
    "            self.grid[rand.randint(shape[0]), rand.randint(shape[1])] = -1\n",
    "            \n",
    "        #set terminal state\n",
    "        x,y = np.where(self.grid != -1)   \n",
    "        i = rand.randint(len(list(x)))\n",
    "        self.grid[x[i],y[i]] = 10\n",
    "        \n",
    "        plt.ion()\n",
    "            \n",
    "        #self.q_table = np.zeros(shape)\n",
    "        \n",
    "        #set blocks. Marked with 5\n",
    "        x,y = np.where(self.grid == 0) \n",
    "        for i in range(num_blocks):\n",
    "            idx = rand.randint(len(list(x)))\n",
    "            self.grid[x[idx], y[idx]] = 5\n",
    "            \n",
    "        print(self.grid)\n",
    "        \n",
    "    def reset(self):\n",
    "        \"\"\"should reset the state\"\"\"\n",
    "        \n",
    "        self.grid[:,:] = 0\n",
    "        \n",
    "        \n",
    "    \n",
    "    def visualize(self, agent):\n",
    "        print(\"in visualize\")\n",
    "        #prin\n",
    "        # print(\"agent position\",agent.position)\n",
    "        \n",
    "        vis = self.grid.copy()\n",
    "        vis[agent.position[0], agent.position[1]] = 2\n",
    "        \n",
    "        print(vis)\n",
    "        \n",
    "#         ax = self.fig.add_subplot(111)\n",
    "#         shw = ax.imshow(vis)\n",
    "\n",
    "  \n",
    "#         # make bar\n",
    "#         #bar = plt.colorbar(shw)\n",
    "        \n",
    "#         plt.colorbar(ax)\n",
    "#         i = input()\n",
    "#         plt.show()\n",
    "#         self.fig.canvas.draw()\n",
    "#         self.fig.canvas.flush_events()\n",
    "    \n",
    "    def step(self, action, agent):\n",
    "        \n",
    "        \"\"\"        \n",
    "        Args:\n",
    "            action: transition values\n",
    "        \n",
    "        \n",
    "        \"\"\"   \n",
    "        print(\"Action\", action)\n",
    "        end = False\n",
    "                 \n",
    "        print(\"Agent position\", agent.position)\n",
    "        print(type(agent.position))\n",
    "        print(\"action\", action)\n",
    "        print(type(action))\n",
    "        #update agents' position/state\n",
    "        #rint(\"action\", action)\n",
    "        #new_pos = [self.agent_position[0] + action[0], self.agent_position[1] + action[1]]\n",
    "        new_pos = [agent.position[0] + action[0], agent.position[1] + action[1]]\n",
    "        \n",
    "        \n",
    "        #if out of range \n",
    "        #print(\"in Step executrion\")\n",
    "        #print(\"aaction\", action)\n",
    "        \n",
    "        #print(\"agent old position\", agent.position)\n",
    "       # print(\"New pos y\", new_pos[1])\n",
    "        #print(\"grid value\", self.grid[new_pos[0], new_pos[1]])\n",
    "        if (new_pos[0] < self.shape[0]) and  (new_pos[0]>=0) and (new_pos[1] < self.shape[1]) and (new_pos[1] >= 0):\n",
    "            \n",
    "            #print(\"No wall\")\n",
    "        \n",
    "        \n",
    "        #if obstacle\n",
    "        \n",
    "            if self.grid[new_pos[0], new_pos[1]] == 5:            \n",
    "                pass\n",
    "\n",
    "            else: \n",
    "                print(\"Should update\")\n",
    "                print(new_pos)\n",
    "                #self.agent_position = new_pos\n",
    "                agent.position = new_pos\n",
    "                print(agent.position)\n",
    "\n",
    "                if self.agent_position == 10: \n",
    "                    end = True      \n",
    "\n",
    "        print(\"Agent new position\", agent.position)\n",
    "        #reward        \n",
    "        reward = self.grid[agent.position[0], agent.position[1]]\n",
    "        \n",
    "        #print\n",
    "        self.visualize(agent)\n",
    "        \n",
    "        return (reward, end)\n",
    "        \n",
    "        \n",
    "        "
   ]
  },
  {
   "cell_type": "code",
   "execution_count": 100,
   "id": "01553d91",
   "metadata": {},
   "outputs": [],
   "source": [
    "class Agent:\n",
    "    def __init__(self, shape, actions=[\"up\", \"down\", \"left\", \"right\"]):\n",
    "        self.position = [0,0]\n",
    "        self.actions = actions        \n",
    "        self.q_table = np.zeros((len(self.actions), shape[0], shape[1]))\n",
    "        \n",
    "#     def e_greedy(self):      \n",
    "        \n",
    "#         eps = 0.25\n",
    "#         p = np.random.random()        \n",
    "#         #random\n",
    "#         if p <= eps: \n",
    "#             ind = np.random.randint(0,4)\n",
    "#             return ind, self.actions[ind], self.q_table[ind, self.position[0], self.position[1]]\n",
    "        \n",
    "#         #choose according to policy/max Q-value action\n",
    "#         else:\n",
    "#             q_vals = self.q_table[:, self.position[0], self.position[1]]\n",
    "            \n",
    "#             #print(q_vals)\n",
    "#             #print(type(q_vals))\n",
    "#             max_q_vals_ind = np.argmax(q_vals)\n",
    "            \n",
    "#             return max_q_vals_ind, self.actions[max_q_vals_ind], self.q_table[max_q_vals_ind, self.position[0], self.position[1]]\n",
    "        \n",
    "    def select_action(self):               \n",
    "        \n",
    "        eps = 0.25\n",
    "        p = np.random.random()        \n",
    "        #random\n",
    "        if p <= eps: \n",
    "            ind = np.random.randint(0,4)\n",
    "            return ind, self.actions[ind], self.q_table[ind, self.position[0], self.position[1]]\n",
    "        \n",
    "        #choose according to policy/max Q-value action\n",
    "        else:\n",
    "            q_vals = self.q_table[:, self.position[0], self.position[1]]\n",
    "            \n",
    "            #print(q_vals)\n",
    "            #print(type(q_vals))\n",
    "            max_q_vals_ind = np.argmax(q_vals)\n",
    "        \n",
    "        action_val = {\"up\" : [0,1],\n",
    "                   \"down\" : [0,-1],\n",
    "                   \"left\" : [-1,0],\n",
    "                   \"right\" : [1,0]}\n",
    "        \n",
    "        print(\"up?\", type(action_val[\"up\"]))\n",
    "        \n",
    "        key = self.actions[max_q_vals_ind]\n",
    "        print(\"key\",key)\n",
    "  \n",
    "       \n",
    "        a = action_val[key]\n",
    "        print(\"In action execution: action return\",a)\n",
    "       # idx, action, q_val = self.e_greedy()\n",
    "        #indx q_table, \n",
    "        return max_q_vals_ind, a, self.q_table[max_q_vals_ind, self.position[0], self.position[1]]\n",
    "        #return idx, actions[action], q_val\n",
    "        \n",
    "        \n",
    "\n",
    "        "
   ]
  },
  {
   "cell_type": "code",
   "execution_count": 101,
   "id": "1f6bd632",
   "metadata": {},
   "outputs": [],
   "source": [
    "class SARSA:\n",
    "    def __init__(self, n, grid_shape, num_pun=4, learning_rate=0.6, gamma=0.3):\n",
    "        self.n = n\n",
    "        self.grid = Gridworld(grid_shape, num_pun)\n",
    "        self.agent = Agent(grid_shape)\n",
    "        self.learning_rate = learning_rate\n",
    "        self.gamma = gamma\n",
    "        \n",
    "    #Noch n reinbringen\n",
    "    def episode(self):\n",
    "        print(\"One episode################################################################################\")\n",
    "        end = False\n",
    "        #print(\"Im in\")\n",
    "        \n",
    "        while end == False:     \n",
    "            \n",
    "            print(\"Neu while\")\n",
    "        \n",
    "                   \n",
    "            old_state = self.agent.position          \n",
    "            \n",
    "            \n",
    "            \n",
    "\n",
    "            #select action        \n",
    "            action_ind, action, q_val_old = self.agent.select_action()\n",
    "            print(\"action typeeee\", action)\n",
    "\n",
    "            #execute action in state class\n",
    "            # return new agent position\n",
    "            # return rewar\n",
    "            im_rewards = []\n",
    "            \n",
    "            #n-Steps/Sampling            \n",
    "            for i in range(self.n): \n",
    "                \n",
    "                if end==True:   \n",
    "                    break\n",
    "                    \n",
    "                else:\n",
    "                    \n",
    "                    print(\"im in\")\n",
    "                \n",
    "                    #execute action\n",
    "                    reward, end = self.grid.step(action, self.agent)\n",
    "                    print(\"STOPPPPPPPPPPPPPPPPPPPPPPPPPPPPP\")\n",
    "\n",
    "                    im_rewards.append(reward)\n",
    "\n",
    "                    #Choose r# from s'\n",
    "                    _, _, q_val_new = self.agent.select_action()\n",
    "\n",
    "\n",
    "            #Update q-Table\n",
    "            print(\"im rew\", im_rewards)\n",
    "               \n",
    "            sum_dir_rew = [self.gamma * (i + 1) * im_rewards[i] for i in range(self.n)]\n",
    "                \n",
    "\n",
    "            self.agent.q_table[action_ind, old_state[0], old_state[1]] = q_val_old + self.learning_rate * (sum_dir_rew + q_val_new-q_val_old)\n",
    "            \n",
    "    def go(self, it = 10):\n",
    "\n",
    "        for i in range(it): \n",
    "            print(\"hallo\")\n",
    "            self.episode()\n",
    "            \n",
    "            "
   ]
  },
  {
   "cell_type": "code",
   "execution_count": 102,
   "id": "244b893e-d7f0-4e51-aa11-0b0eaa99382b",
   "metadata": {},
   "outputs": [
    {
     "name": "stdout",
     "output_type": "stream",
     "text": [
      "[[ 2.  0. 10.  0.  0.]\n",
      " [ 0.  0.  0. -1.  0.]\n",
      " [-1.  5.  5.  0. -1.]\n",
      " [ 0.  0.  0.  0.  0.]\n",
      " [ 0. -1. -1.  0.  5.]]\n",
      "hallo\n",
      "One episode################################################################################\n",
      "Neu while\n",
      "up? <class 'list'>\n",
      "key up\n",
      "In action execution: action return [0, 1]\n",
      "action typeeee [0, 1]\n",
      "im in\n",
      "Action [0, 1]\n",
      "Agent position [0, 0]\n",
      "<class 'list'>\n",
      "action [0, 1]\n",
      "<class 'list'>\n",
      "Should update\n",
      "[0, 1]\n",
      "[0, 1]\n",
      "Agent new position [0, 1]\n",
      "in visualize\n",
      "[[ 2.  2. 10.  0.  0.]\n",
      " [ 0.  0.  0. -1.  0.]\n",
      " [-1.  5.  5.  0. -1.]\n",
      " [ 0.  0.  0.  0.  0.]\n",
      " [ 0. -1. -1.  0.  5.]]\n",
      "STOPPPPPPPPPPPPPPPPPPPPPPPPPPPPP\n",
      "im rew [0.0]\n",
      "Neu while\n",
      "up? <class 'list'>\n",
      "key up\n",
      "In action execution: action return [0, 1]\n",
      "action typeeee [0, 1]\n",
      "im in\n",
      "Action [0, 1]\n",
      "Agent position [0, 1]\n",
      "<class 'list'>\n",
      "action [0, 1]\n",
      "<class 'list'>\n",
      "Should update\n",
      "[0, 2]\n",
      "[0, 2]\n",
      "Agent new position [0, 2]\n",
      "in visualize\n",
      "[[ 2.  0.  2.  0.  0.]\n",
      " [ 0.  0.  0. -1.  0.]\n",
      " [-1.  5.  5.  0. -1.]\n",
      " [ 0.  0.  0.  0.  0.]\n",
      " [ 0. -1. -1.  0.  5.]]\n",
      "STOPPPPPPPPPPPPPPPPPPPPPPPPPPPPP\n",
      "up? <class 'list'>\n",
      "key up\n",
      "In action execution: action return [0, 1]\n",
      "im rew [10.0]\n",
      "Neu while\n",
      "up? <class 'list'>\n",
      "key up\n",
      "In action execution: action return [0, 1]\n",
      "action typeeee [0, 1]\n",
      "im in\n",
      "Action [0, 1]\n",
      "Agent position [0, 2]\n",
      "<class 'list'>\n",
      "action [0, 1]\n",
      "<class 'list'>\n",
      "Should update\n",
      "[0, 3]\n",
      "[0, 3]\n",
      "Agent new position [0, 3]\n",
      "in visualize\n",
      "[[ 2.  0. 10.  2.  0.]\n",
      " [ 0.  0.  0. -1.  0.]\n",
      " [-1.  5.  5.  0. -1.]\n",
      " [ 0.  0.  0.  0.  0.]\n",
      " [ 0. -1. -1.  0.  5.]]\n",
      "STOPPPPPPPPPPPPPPPPPPPPPPPPPPPPP\n",
      "up? <class 'list'>\n",
      "key up\n",
      "In action execution: action return [0, 1]\n",
      "im rew [0.0]\n",
      "Neu while\n",
      "up? <class 'list'>\n",
      "key up\n",
      "In action execution: action return [0, 1]\n",
      "action typeeee [0, 1]\n",
      "im in\n",
      "Action [0, 1]\n",
      "Agent position [0, 3]\n",
      "<class 'list'>\n",
      "action [0, 1]\n",
      "<class 'list'>\n",
      "Should update\n",
      "[0, 4]\n",
      "[0, 4]\n",
      "Agent new position [0, 4]\n",
      "in visualize\n",
      "[[ 2.  0. 10.  0.  2.]\n",
      " [ 0.  0.  0. -1.  0.]\n",
      " [-1.  5.  5.  0. -1.]\n",
      " [ 0.  0.  0.  0.  0.]\n",
      " [ 0. -1. -1.  0.  5.]]\n",
      "STOPPPPPPPPPPPPPPPPPPPPPPPPPPPPP\n",
      "up? <class 'list'>\n",
      "key up\n",
      "In action execution: action return [0, 1]\n",
      "im rew [0.0]\n",
      "Neu while\n",
      "up? <class 'list'>\n",
      "key up\n",
      "In action execution: action return [0, 1]\n",
      "action typeeee [0, 1]\n",
      "im in\n",
      "Action [0, 1]\n",
      "Agent position [0, 4]\n",
      "<class 'list'>\n",
      "action [0, 1]\n",
      "<class 'list'>\n",
      "Agent new position [0, 4]\n",
      "in visualize\n",
      "[[ 2.  0. 10.  0.  2.]\n",
      " [ 0.  0.  0. -1.  0.]\n",
      " [-1.  5.  5.  0. -1.]\n",
      " [ 0.  0.  0.  0.  0.]\n",
      " [ 0. -1. -1.  0.  5.]]\n",
      "STOPPPPPPPPPPPPPPPPPPPPPPPPPPPPP\n",
      "im rew [0.0]\n",
      "Neu while\n",
      "up? <class 'list'>\n",
      "key up\n",
      "In action execution: action return [0, 1]\n",
      "action typeeee [0, 1]\n",
      "im in\n",
      "Action [0, 1]\n",
      "Agent position [0, 4]\n",
      "<class 'list'>\n",
      "action [0, 1]\n",
      "<class 'list'>\n",
      "Agent new position [0, 4]\n",
      "in visualize\n",
      "[[ 2.  0. 10.  0.  2.]\n",
      " [ 0.  0.  0. -1.  0.]\n",
      " [-1.  5.  5.  0. -1.]\n",
      " [ 0.  0.  0.  0.  0.]\n",
      " [ 0. -1. -1.  0.  5.]]\n",
      "STOPPPPPPPPPPPPPPPPPPPPPPPPPPPPP\n",
      "up? <class 'list'>\n",
      "key up\n",
      "In action execution: action return [0, 1]\n",
      "im rew [0.0]\n",
      "Neu while\n",
      "up? <class 'list'>\n",
      "key up\n",
      "In action execution: action return [0, 1]\n",
      "action typeeee [0, 1]\n",
      "im in\n",
      "Action [0, 1]\n",
      "Agent position [0, 4]\n",
      "<class 'list'>\n",
      "action [0, 1]\n",
      "<class 'list'>\n",
      "Agent new position [0, 4]\n",
      "in visualize\n",
      "[[ 2.  0. 10.  0.  2.]\n",
      " [ 0.  0.  0. -1.  0.]\n",
      " [-1.  5.  5.  0. -1.]\n",
      " [ 0.  0.  0.  0.  0.]\n",
      " [ 0. -1. -1.  0.  5.]]\n",
      "STOPPPPPPPPPPPPPPPPPPPPPPPPPPPPP\n",
      "im rew [0.0]\n",
      "Neu while\n",
      "up? <class 'list'>\n",
      "key up\n",
      "In action execution: action return [0, 1]\n",
      "action typeeee [0, 1]\n",
      "im in\n",
      "Action [0, 1]\n",
      "Agent position [0, 4]\n",
      "<class 'list'>\n",
      "action [0, 1]\n",
      "<class 'list'>\n",
      "Agent new position [0, 4]\n",
      "in visualize\n",
      "[[ 2.  0. 10.  0.  2.]\n",
      " [ 0.  0.  0. -1.  0.]\n",
      " [-1.  5.  5.  0. -1.]\n",
      " [ 0.  0.  0.  0.  0.]\n",
      " [ 0. -1. -1.  0.  5.]]\n",
      "STOPPPPPPPPPPPPPPPPPPPPPPPPPPPPP\n",
      "up? <class 'list'>\n",
      "key up\n",
      "In action execution: action return [0, 1]\n",
      "im rew [0.0]\n",
      "Neu while\n",
      "action typeeee right\n",
      "im in\n",
      "Action right\n",
      "Agent position [0, 4]\n",
      "<class 'list'>\n",
      "action right\n",
      "<class 'str'>\n"
     ]
    },
    {
     "ename": "TypeError",
     "evalue": "unsupported operand type(s) for +: 'int' and 'str'",
     "output_type": "error",
     "traceback": [
      "\u001b[1;31m---------------------------------------------------------------------------\u001b[0m",
      "\u001b[1;31mTypeError\u001b[0m                                 Traceback (most recent call last)",
      "Input \u001b[1;32mIn [102]\u001b[0m, in \u001b[0;36m<cell line: 3>\u001b[1;34m()\u001b[0m\n\u001b[0;32m      1\u001b[0m sarsa \u001b[38;5;241m=\u001b[39m SARSA(\u001b[38;5;241m1\u001b[39m,(\u001b[38;5;241m5\u001b[39m,\u001b[38;5;241m5\u001b[39m),\u001b[38;5;241m5\u001b[39m)\n\u001b[1;32m----> 3\u001b[0m \u001b[43msarsa\u001b[49m\u001b[38;5;241;43m.\u001b[39;49m\u001b[43mgo\u001b[49m\u001b[43m(\u001b[49m\u001b[43m)\u001b[49m\n",
      "Input \u001b[1;32mIn [101]\u001b[0m, in \u001b[0;36mSARSA.go\u001b[1;34m(self, it)\u001b[0m\n\u001b[0;32m     62\u001b[0m \u001b[38;5;28;01mfor\u001b[39;00m i \u001b[38;5;129;01min\u001b[39;00m \u001b[38;5;28mrange\u001b[39m(it): \n\u001b[0;32m     63\u001b[0m     \u001b[38;5;28mprint\u001b[39m(\u001b[38;5;124m\"\u001b[39m\u001b[38;5;124mhallo\u001b[39m\u001b[38;5;124m\"\u001b[39m)\n\u001b[1;32m---> 64\u001b[0m     \u001b[38;5;28;43mself\u001b[39;49m\u001b[38;5;241;43m.\u001b[39;49m\u001b[43mepisode\u001b[49m\u001b[43m(\u001b[49m\u001b[43m)\u001b[49m\n",
      "Input \u001b[1;32mIn [101]\u001b[0m, in \u001b[0;36mSARSA.episode\u001b[1;34m(self)\u001b[0m\n\u001b[0;32m     40\u001b[0m \u001b[38;5;28mprint\u001b[39m(\u001b[38;5;124m\"\u001b[39m\u001b[38;5;124mim in\u001b[39m\u001b[38;5;124m\"\u001b[39m)\n\u001b[0;32m     42\u001b[0m \u001b[38;5;66;03m#execute action\u001b[39;00m\n\u001b[1;32m---> 43\u001b[0m reward, end \u001b[38;5;241m=\u001b[39m \u001b[38;5;28;43mself\u001b[39;49m\u001b[38;5;241;43m.\u001b[39;49m\u001b[43mgrid\u001b[49m\u001b[38;5;241;43m.\u001b[39;49m\u001b[43mstep\u001b[49m\u001b[43m(\u001b[49m\u001b[43maction\u001b[49m\u001b[43m,\u001b[49m\u001b[43m \u001b[49m\u001b[38;5;28;43mself\u001b[39;49m\u001b[38;5;241;43m.\u001b[39;49m\u001b[43magent\u001b[49m\u001b[43m)\u001b[49m\n\u001b[0;32m     44\u001b[0m \u001b[38;5;28mprint\u001b[39m(\u001b[38;5;124m\"\u001b[39m\u001b[38;5;124mSTOPPPPPPPPPPPPPPPPPPPPPPPPPPPPP\u001b[39m\u001b[38;5;124m\"\u001b[39m)\n\u001b[0;32m     46\u001b[0m im_rewards\u001b[38;5;241m.\u001b[39mappend(reward)\n",
      "Input \u001b[1;32mIn [99]\u001b[0m, in \u001b[0;36mgridworld.step\u001b[1;34m(self, action, agent)\u001b[0m\n\u001b[0;32m     86\u001b[0m  \u001b[38;5;28mprint\u001b[39m(\u001b[38;5;28mtype\u001b[39m(action))\n\u001b[0;32m     87\u001b[0m  \u001b[38;5;66;03m#update agents' position/state\u001b[39;00m\n\u001b[0;32m     88\u001b[0m  \u001b[38;5;66;03m#rint(\"action\", action)\u001b[39;00m\n\u001b[0;32m     89\u001b[0m  \u001b[38;5;66;03m#new_pos = [self.agent_position[0] + action[0], self.agent_position[1] + action[1]]\u001b[39;00m\n\u001b[1;32m---> 90\u001b[0m  new_pos \u001b[38;5;241m=\u001b[39m [\u001b[43magent\u001b[49m\u001b[38;5;241;43m.\u001b[39;49m\u001b[43mposition\u001b[49m\u001b[43m[\u001b[49m\u001b[38;5;241;43m0\u001b[39;49m\u001b[43m]\u001b[49m\u001b[43m \u001b[49m\u001b[38;5;241;43m+\u001b[39;49m\u001b[43m \u001b[49m\u001b[43maction\u001b[49m\u001b[43m[\u001b[49m\u001b[38;5;241;43m0\u001b[39;49m\u001b[43m]\u001b[49m, agent\u001b[38;5;241m.\u001b[39mposition[\u001b[38;5;241m1\u001b[39m] \u001b[38;5;241m+\u001b[39m action[\u001b[38;5;241m1\u001b[39m]]\n\u001b[0;32m     93\u001b[0m  \u001b[38;5;66;03m#if out of range \u001b[39;00m\n\u001b[0;32m     94\u001b[0m  \u001b[38;5;66;03m#print(\"in Step executrion\")\u001b[39;00m\n\u001b[0;32m     95\u001b[0m  \u001b[38;5;66;03m#print(\"aaction\", action)\u001b[39;00m\n\u001b[1;32m   (...)\u001b[0m\n\u001b[0;32m     98\u001b[0m \u001b[38;5;66;03m# print(\"New pos y\", new_pos[1])\u001b[39;00m\n\u001b[0;32m     99\u001b[0m  \u001b[38;5;66;03m#print(\"grid value\", self.grid[new_pos[0], new_pos[1]])\u001b[39;00m\n\u001b[0;32m    100\u001b[0m  \u001b[38;5;28;01mif\u001b[39;00m (new_pos[\u001b[38;5;241m0\u001b[39m] \u001b[38;5;241m<\u001b[39m \u001b[38;5;28mself\u001b[39m\u001b[38;5;241m.\u001b[39mshape[\u001b[38;5;241m0\u001b[39m]) \u001b[38;5;129;01mand\u001b[39;00m  (new_pos[\u001b[38;5;241m0\u001b[39m]\u001b[38;5;241m>\u001b[39m\u001b[38;5;241m=\u001b[39m\u001b[38;5;241m0\u001b[39m) \u001b[38;5;129;01mand\u001b[39;00m (new_pos[\u001b[38;5;241m1\u001b[39m] \u001b[38;5;241m<\u001b[39m \u001b[38;5;28mself\u001b[39m\u001b[38;5;241m.\u001b[39mshape[\u001b[38;5;241m1\u001b[39m]) \u001b[38;5;129;01mand\u001b[39;00m (new_pos[\u001b[38;5;241m1\u001b[39m] \u001b[38;5;241m>\u001b[39m\u001b[38;5;241m=\u001b[39m \u001b[38;5;241m0\u001b[39m):\n\u001b[0;32m    101\u001b[0m      \n\u001b[0;32m    102\u001b[0m      \u001b[38;5;66;03m#print(\"No wall\")\u001b[39;00m\n\u001b[0;32m    103\u001b[0m  \n\u001b[0;32m    104\u001b[0m  \n\u001b[0;32m    105\u001b[0m  \u001b[38;5;66;03m#if obstacle\u001b[39;00m\n",
      "\u001b[1;31mTypeError\u001b[0m: unsupported operand type(s) for +: 'int' and 'str'"
     ]
    },
    {
     "data": {
      "text/plain": [
       "<Figure size 432x288 with 0 Axes>"
      ]
     },
     "metadata": {},
     "output_type": "display_data"
    }
   ],
   "source": [
    "sarsa = SARSA(1,(5,5),5)\n",
    "\n",
    "sarsa.go()\n"
   ]
  },
  {
   "cell_type": "code",
   "execution_count": 13,
   "id": "c250c50d-d115-458e-900e-e77431509b15",
   "metadata": {},
   "outputs": [
    {
     "data": {
      "text/plain": [
       "<matplotlib.image.AxesImage at 0x1cffe2a6370>"
      ]
     },
     "execution_count": 13,
     "metadata": {},
     "output_type": "execute_result"
    },
    {
     "data": {
      "image/png": "[encoded data removed]",
      "text/plain": [
       "<Figure size 432x288 with 1 Axes>"
      ]
     },
     "metadata": {
      "needs_background": "light"
     },
     "output_type": "display_data"
    }
   ],
   "source": [
    "plt.imshow(np.zeros((5,5)))\n",
    "plt.imshow(np.zeros((2,2)))\n",
    "\n"
   ]
  },
  {
   "cell_type": "markdown",
   "id": "451c102f",
   "metadata": {},
   "source": [
    "ENDEEEEEEEEEEEEEEEEEEEEEEEEEEEEEEEEEEEEEEEEEE"
   ]
  },
  {
   "cell_type": "code",
   "execution_count": null,
   "id": "1230e1de-5726-47bc-a37f-d9c1e8157db2",
   "metadata": {},
   "outputs": [],
   "source": [
    "class SARSA: \n",
    "    def __init__(self, actions = [\"up\", \"down\", \"left\", \"right\"], learning_rate, gamma):\n",
    "        self.actions = actions\n",
    "        \n",
    "        #set grid object\n",
    "        self.grid = Gridworld((5,5), 2)\n",
    "        \n",
    "        #Q-Table\n",
    "        self.q_table = np.zeros((len(self.actions), self.grid.shape[0], self.grid.shape[1]))\n",
    "        \n",
    "        #Current agent position\n",
    "        self.position = (0,0) #start always in (0,0)\n",
    "        \n",
    "    def e_greedy(self):\n",
    "        eps = 0.25\n",
    "        p = np.random.random()\n",
    "        \n",
    "        #random\n",
    "        if p <= eps:\n",
    "            return random.choice(self.actions)\n",
    "        \n",
    "        #choose according to policy/max Q-value action\n",
    "        else:\n",
    "            q_values = [:, self.position[0], self.position[1]]\n",
    "            return (self.actions[np.argmax[q_values]], q_values[np.argmax[q_values]])\n",
    "    \n",
    "            \n",
    "    def steps_episode(self):\n",
    "        end = False\n",
    "        actions = {\"up\" : [0,1],\n",
    "                   \"down\" : [0,-1],\n",
    "                   \"left\" : [-1,0],\n",
    "                   \"right\" : [1,0]}\n",
    "        \n",
    "        #Select action to take        \n",
    "        action, q_val_old = e_greedy()\n",
    "         \n",
    "        \n",
    "        while end == False:       \n",
    "            print(\"hallo\")\n",
    "        \n",
    "        \n",
    "        \n",
    "        #execute action: observe R and S'\n",
    "        reward, e = self.grid.step(actions[action])\n",
    "        \n",
    "        \n",
    "        #Choose A' from S' using policy derived from Q\n",
    "        \n",
    "        \n",
    "        \n",
    "        \n",
    "        \n",
    "        #update \n",
    "        self.q_table[?, self.position[0], self.position[1]] = q_val_old + learning_rate * (reward + gamma * q_val_new - q_val_old)\n",
    "        \n",
    "        #ToDo \n",
    "        # q-value new\n",
    "        # wie funktioniert formel nochmal \n",
    "        #n-step \n",
    "        # epsilon greedy besser\n",
    "        \n",
    "        # dieser bool interessiert doch nur, wenn wir womöglich zu viele steps samplen wenn man q-value nimmt nicht?\n",
    "        \n",
    "        #according to policy   \n",
    "        \n",
    "        \n",
    "        \n",
    "        \n",
    "        #current state\n",
    "        \n",
    "        \n",
    "        \n",
    "        \n",
    "        \n",
    "    "
   ]
  },
  {
   "cell_type": "code",
   "execution_count": 110,
   "id": "6f2aecfb-1657-4359-8525-04f8dbbfbd33",
   "metadata": {},
   "outputs": [
    {
     "data": {
      "text/plain": [
       "2"
      ]
     },
     "execution_count": 110,
     "metadata": {},
     "output_type": "execute_result"
    }
   ],
   "source": [
    "a = np.array([1,2,3])\n",
    "np.argmax(a)\n",
    "\n"
   ]
  },
  {
   "cell_type": "code",
   "execution_count": 104,
   "id": "9a4c09cc-aca8-4475-a8f3-c596afd380cc",
   "metadata": {},
   "outputs": [
    {
     "name": "stdout",
     "output_type": "stream",
     "text": [
      "[[ 2.  0.  0.  0.  0.]\n",
      " [ 0.  0.  0.  0.  0.]\n",
      " [-1.  0.  0.  0.  0.]\n",
      " [ 0.  0.  0.  0. -1.]\n",
      " [ 0. 10.  0.  0.  0.]]\n",
      "[[ 2.  0.  0.  0.  0.]\n",
      " [ 0.  5.  0.  0.  5.]\n",
      " [-1.  0.  5.  0.  0.]\n",
      " [ 0.  0.  0.  0. -1.]\n",
      " [ 0. 10.  0.  0.  0.]]\n"
     ]
    },
    {
     "data": {
      "image/png": "[encoded data removed]",
      "text/plain": [
       "<Figure size 432x288 with 1 Axes>"
      ]
     },
     "metadata": {
      "needs_background": "light"
     },
     "output_type": "display_data"
    }
   ],
   "source": [
    " Gridworld((5,5), 2).s()s"
   ]
  },
  {
   "cell_type": "code",
   "execution_count": 10,
   "id": "8df6c437-785d-4192-863b-f961ec08b01f",
   "metadata": {},
   "outputs": [
    {
     "name": "stdout",
     "output_type": "stream",
     "text": [
      "[[1. 0.]\n",
      " [2. 0.]]\n"
     ]
    },
    {
     "ename": "ValueError",
     "evalue": "either both or neither of x and y should be given",
     "output_type": "error",
     "traceback": [
      "\u001b[1;31m---------------------------------------------------------------------------\u001b[0m",
      "\u001b[1;31mValueError\u001b[0m                                Traceback (most recent call last)",
      "Input \u001b[1;32mIn [10]\u001b[0m, in \u001b[0;36m<cell line: 6>\u001b[1;34m()\u001b[0m\n\u001b[0;32m      3\u001b[0m a[\u001b[38;5;241m1\u001b[39m,\u001b[38;5;241m0\u001b[39m] \u001b[38;5;241m=\u001b[39m \u001b[38;5;241m2\u001b[39m\n\u001b[0;32m      4\u001b[0m \u001b[38;5;28mprint\u001b[39m(a)\n\u001b[1;32m----> 6\u001b[0m t \u001b[38;5;241m=\u001b[39m \u001b[43mnp\u001b[49m\u001b[38;5;241;43m.\u001b[39;49m\u001b[43mwhere\u001b[49m\u001b[43m(\u001b[49m\u001b[43m(\u001b[49m\u001b[43m(\u001b[49m\u001b[43ma\u001b[49m\u001b[43m \u001b[49m\u001b[38;5;241;43m!=\u001b[39;49m\u001b[43m \u001b[49m\u001b[38;5;241;43m1\u001b[39;49m\u001b[43m)\u001b[49m\u001b[38;5;241;43m&\u001b[39;49m\u001b[43m(\u001b[49m\u001b[43ma\u001b[49m\u001b[38;5;241;43m!=\u001b[39;49m\u001b[38;5;241;43m2\u001b[39;49m\u001b[43m)\u001b[49m\u001b[43m)\u001b[49m\u001b[43m,\u001b[49m\u001b[43m \u001b[49m\u001b[43ma\u001b[49m\u001b[43m)\u001b[49m\n\u001b[0;32m      7\u001b[0m t\n",
      "File \u001b[1;32m<__array_function__ internals>:180\u001b[0m, in \u001b[0;36mwhere\u001b[1;34m(*args, **kwargs)\u001b[0m\n",
      "\u001b[1;31mValueError\u001b[0m: either both or neither of x and y should be given"
     ]
    }
   ],
   "source": [
    "a = np.zeros((2,2))\n",
    "a[0,0] = 1\n",
    "a[1,0] = 2\n",
    "print(a)\n",
    "\n",
    "t = np.where(((a != 1)&(a!=2)), a)\n",
    "t"
   ]
  },
  {
   "cell_type": "code",
   "execution_count": 35,
   "id": "ff5bed73-99bf-4ddc-9d6a-7fd0ab1652d2",
   "metadata": {},
   "outputs": [
    {
     "data": {
      "text/plain": [
       "3"
      ]
     },
     "execution_count": 35,
     "metadata": {},
     "output_type": "execute_result"
    }
   ],
   "source": [
    "rand.randint(5)"
   ]
  },
  {
   "cell_type": "code",
   "execution_count": 47,
   "id": "9c8945a7-41fb-41c8-84c4-64479d611043",
   "metadata": {},
   "outputs": [
    {
     "data": {
      "text/plain": [
       "array([[ 0., -1.,  0.,  0.,  0.],\n",
       "       [ 0.,  0.,  0.,  0.,  0.],\n",
       "       [ 0.,  0., -1.,  0.,  0.],\n",
       "       [ 0.,  0.,  0.,  0.,  0.],\n",
       "       [ 0.,  0.,  0.,  0.,  0.]])"
      ]
     },
     "execution_count": 47,
     "metadata": {},
     "output_type": "execute_result"
    }
   ],
   "source": [
    "arr = np.zeros((5,5))\n",
    "arr[0,1]= -1\n",
    "arr[2,2] = -1\n",
    "arr"
   ]
  },
  {
   "cell_type": "code",
   "execution_count": null,
   "id": "3a8eb3f7-9d06-4c02-8233-b5f733908344",
   "metadata": {},
   "outputs": [],
   "source": [
    "#take random sample of action space\n",
    "\n",
    "#follow policy\n",
    "\n",
    "#Do we initialize policy randomly in beginning? And if so how?"
   ]
  },
  {
   "cell_type": "code",
   "execution_count": 91,
   "id": "52f97a09-96d1-41e0-a109-a542b89f153f",
   "metadata": {},
   "outputs": [
    {
     "data": {
      "text/plain": [
       "array([[0, 0, 0],\n",
       "       [0, 0, 0],\n",
       "       [0, 0, 0]])"
      ]
     },
     "execution_count": 91,
     "metadata": {},
     "output_type": "execute_result"
    }
   ],
   "source": [
    "a= np.full((3,3), fill_value= 3)\n",
    "a[:,:]= 0\n",
    "a"
   ]
  },
  {
   "cell_type": "code",
   "execution_count": 2,
   "id": "fd312041",
   "metadata": {},
   "outputs": [],
   "source": [
    "def test(x):\n",
    "    if x<3:\n",
    "        pass\n",
    "    else: \n",
    "        return x"
   ]
  },
  {
   "cell_type": "code",
   "execution_count": 7,
   "id": "63374ceb",
   "metadata": {},
   "outputs": [],
   "source": [
    "class A:\n",
    "    def __init__(self):\n",
    "        self.a = 2\n",
    "        \n",
    "\n",
    "        \n"
   ]
  },
  {
   "cell_type": "code",
   "execution_count": 5,
   "id": "225e28f7",
   "metadata": {},
   "outputs": [],
   "source": [
    "class B: \n",
    "    def _init_(self):\n",
    "        self.b = 5\n",
    "        \n",
    "    def test(self,a):\n",
    "        a.a = 0"
   ]
  },
  {
   "cell_type": "code",
   "execution_count": 11,
   "id": "5607a968",
   "metadata": {},
   "outputs": [
    {
     "data": {
      "text/plain": [
       "0"
      ]
     },
     "execution_count": 11,
     "metadata": {},
     "output_type": "execute_result"
    }
   ],
   "source": [
    "a = A()\n",
    "b = B()\n",
    "\n",
    "b.test(a)\n",
    "a.a"
   ]
  },
  {
   "cell_type": "code",
   "execution_count": 29,
   "id": "edc6b085-9b23-4168-9bfc-5b90800bee95",
   "metadata": {},
   "outputs": [
    {
     "data": {
      "text/plain": [
       "<matplotlib.image.AxesImage at 0x1cffe5e68e0>"
      ]
     },
     "execution_count": 29,
     "metadata": {},
     "output_type": "execute_result"
    },
    {
     "data": {
      "image/png": "[encoded data removed]",
      "text/plain": [
       "<Figure size 432x288 with 1 Axes>"
      ]
     },
     "metadata": {
      "needs_background": "light"
     },
     "output_type": "display_data"
    }
   ],
   "source": [
    "\n",
    "a = np.array([[10,10,0],[2,0,10],[5,5,0]])\n",
    "             \n",
    "\n",
    "cmap = colors.ListedColormap(['green', 'blue', 'yellow'])\n",
    "bounds = [10,5,2]\n",
    "norm = colors.BoundaryNorm(bounds, cmap.N)\n",
    "\n",
    "\n",
    "plt.imshow(a)"
   ]
  },
  {
   "cell_type": "code",
   "execution_count": 24,
   "id": "621a32f4-620e-4c9d-945a-9e62b20bf1fe",
   "metadata": {},
   "outputs": [
    {
     "data": {
      "text/plain": [
       "<matplotlib.image.AxesImage at 0x1cffe531790>"
      ]
     },
     "execution_count": 24,
     "metadata": {},
     "output_type": "execute_result"
    },
    {
     "data": {
      "image/png": "[encoded data removed]",
      "text/plain": [
       "<Figure size 432x288 with 1 Axes>"
      ]
     },
     "metadata": {
      "needs_background": "light"
     },
     "output_type": "display_data"
    }
   ],
   "source": [
    "a = np.zeros((5,5))\n",
    "from matplotlib import colors\n",
    "cmap = colors.ListedColormap(['red', 'blue'])\n",
    "bounds = [0,10,20]\n",
    "norm = colors.BoundaryNorm(bounds, cmap.N)\n",
    "\n",
    "a[0] = 10\n",
    "plt.imshow(a)\n",
    "\n"
   ]
  }
 ],
 "metadata": {
  "kernelspec": {
   "display_name": "Python 3 (ipykernel)",
   "language": "python",
   "name": "python3"
  },
  "language_info": {
   "codemirror_mode": {
    "name": "ipython",
    "version": 3
   },
   "file_extension": ".py",
   "mimetype": "text/x-python",
   "name": "python",
   "nbconvert_exporter": "python",
   "pygments_lexer": "ipython3",
   "version": "3.9.7"
  }
 },
 "nbformat": 4,
 "nbformat_minor": 5
}
